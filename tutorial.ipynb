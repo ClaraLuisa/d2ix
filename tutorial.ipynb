{
 "cells": [
  {
   "cell_type": "markdown",
   "metadata": {},
   "source": [
    "# Workflow to create a MESSAGE Scenario using d2ix"
   ]
  },
  {
   "cell_type": "code",
   "execution_count": 1,
   "metadata": {},
   "outputs": [],
   "source": [
    "import pandas as pd\n",
    "from d2ix import Model\n",
    "from d2ix import PostProcess\n",
    "from d2ix import ModifyModel"
   ]
  },
  {
   "cell_type": "code",
   "execution_count": 2,
   "metadata": {},
   "outputs": [
    {
     "name": "stdout",
     "output_type": "stream",
     "text": [
      "2018-10-19 13:04:38,281  INFO d2ix.core - Load data base configurations\n",
      "2018-10-19 13:04:38,395  INFO root - launching ixmp.Platform with local HSQLDB database at 'C:\\Users\\ga46gup\\.local\\ixmp\\localdb\\default'\n",
      "2018-10-19 13:04:42,646  INFO d2ix.core - Load model input data from: 'input/modell_data.xlsx'\n",
      "2018-10-19 13:04:42,707  INFO d2ix.core - Load model input data from: 'input/manual_input_parameter.xlsx'\n",
      "2018-10-19 13:04:42,794  INFO d2ix.core - Create parameters from: 'input/modell_data.xlsx'\n",
      "2018-10-19 13:04:43,640  INFO d2ix.core - Create demands from: 'input/modell_data.xlsx'\n",
      "2018-10-19 13:04:43,699  INFO d2ix.core - Create parameters from: 'input/manual_input_parameter.xlsx'\n",
      "2018-10-19 13:04:43,700  INFO d2ix.core - Create parameters from: 'input/modell_data.xlsx' - 'rel_and_flex'\n",
      "2018-10-19 13:04:43,738  INFO d2ix.core - Create parameters from: 'input/modell_data.xlsx' - 'renewable_potential'\n",
      "2018-10-19 13:04:43,742  INFO d2ix.core - Create sets from: 'input/modell_data.xlsx' and 'input/manual_input_parameter.xlsx'\n"
     ]
    }
   ],
   "source": [
    "model = Model(model='MESSAGE_Indonesia', scen='Indonesia baseline',\n",
    "              annotation='Indonesia model',\n",
    "              base_xls='input/modell_data.xlsx',\n",
    "              manual_parameter_xls='input/manual_input_parameter.xlsx',\n",
    "              historical_data=True, historical_range_year=1,\n",
    "              first_historical_year=2000, model_range_year=5,\n",
    "              first_model_year=2020, last_model_year=2030,\n",
    "              run_config='config/run_config.yml',\n",
    "              verbose=False, yaml_export=False)"
   ]
  },
  {
   "cell_type": "code",
   "execution_count": 3,
   "metadata": {},
   "outputs": [],
   "source": [
    "hist_new_cap = model.get_parameter(par='historical_new_capacity')\n",
    "for par in ['input', 'output']:\n",
    "    df = model.get_parameter(par=par)\n",
    "    _model_input = df[df.year_vtg >= 2020].copy()\n",
    "    _hist_input = df[df.year_vtg < 2020].copy()\n",
    "    _hist_input = _hist_input.merge(hist_new_cap, how='inner',\n",
    "                                    on=['technology', 'node_loc',\n",
    "                                        'year_vtg'], suffixes=['', 'y'])\n",
    "\n",
    "    df = pd.concat([_model_input, _hist_input[_model_input.columns]]\n",
    "                   ).reset_index(drop=True)\n",
    "    model.set_parameter(par=df, name=par)"
   ]
  },
  {
   "cell_type": "code",
   "execution_count": 4,
   "metadata": {},
   "outputs": [
    {
     "data": {
      "text/html": [
       "<div>\n",
       "<style scoped>\n",
       "    .dataframe tbody tr th:only-of-type {\n",
       "        vertical-align: middle;\n",
       "    }\n",
       "\n",
       "    .dataframe tbody tr th {\n",
       "        vertical-align: top;\n",
       "    }\n",
       "\n",
       "    .dataframe thead th {\n",
       "        text-align: right;\n",
       "    }\n",
       "</style>\n",
       "<table border=\"1\" class=\"dataframe\">\n",
       "  <thead>\n",
       "    <tr style=\"text-align: right;\">\n",
       "      <th></th>\n",
       "      <th>node</th>\n",
       "      <th>commodity</th>\n",
       "      <th>level</th>\n",
       "      <th>year</th>\n",
       "      <th>time</th>\n",
       "      <th>value</th>\n",
       "      <th>unit</th>\n",
       "    </tr>\n",
       "  </thead>\n",
       "  <tbody>\n",
       "    <tr>\n",
       "      <th>0</th>\n",
       "      <td>Indonesia</td>\n",
       "      <td>electricity</td>\n",
       "      <td>useful</td>\n",
       "      <td>2020</td>\n",
       "      <td>year</td>\n",
       "      <td>50.0</td>\n",
       "      <td>GWa</td>\n",
       "    </tr>\n",
       "    <tr>\n",
       "      <th>1</th>\n",
       "      <td>Indonesia</td>\n",
       "      <td>electricity</td>\n",
       "      <td>useful</td>\n",
       "      <td>2025</td>\n",
       "      <td>year</td>\n",
       "      <td>80.0</td>\n",
       "      <td>GWa</td>\n",
       "    </tr>\n",
       "    <tr>\n",
       "      <th>2</th>\n",
       "      <td>Indonesia</td>\n",
       "      <td>electricity</td>\n",
       "      <td>useful</td>\n",
       "      <td>2030</td>\n",
       "      <td>year</td>\n",
       "      <td>100.0</td>\n",
       "      <td>GWa</td>\n",
       "    </tr>\n",
       "  </tbody>\n",
       "</table>\n",
       "</div>"
      ],
      "text/plain": [
       "        node    commodity   level  year  time  value unit\n",
       "0  Indonesia  electricity  useful  2020  year   50.0  GWa\n",
       "1  Indonesia  electricity  useful  2025  year   80.0  GWa\n",
       "2  Indonesia  electricity  useful  2030  year  100.0  GWa"
      ]
     },
     "execution_count": 4,
     "metadata": {},
     "output_type": "execute_result"
    }
   ],
   "source": [
    "# Example on how to access and edit parameters manually if neccessary\n",
    "demand = model.get_parameter(par='demand')\n",
    "list(set(demand.commodity))\n",
    "demand.head()"
   ]
  },
  {
   "cell_type": "code",
   "execution_count": 5,
   "metadata": {},
   "outputs": [
    {
     "data": {
      "text/html": [
       "<div>\n",
       "<style scoped>\n",
       "    .dataframe tbody tr th:only-of-type {\n",
       "        vertical-align: middle;\n",
       "    }\n",
       "\n",
       "    .dataframe tbody tr th {\n",
       "        vertical-align: top;\n",
       "    }\n",
       "\n",
       "    .dataframe thead th {\n",
       "        text-align: right;\n",
       "    }\n",
       "</style>\n",
       "<table border=\"1\" class=\"dataframe\">\n",
       "  <thead>\n",
       "    <tr style=\"text-align: right;\">\n",
       "      <th></th>\n",
       "      <th>node</th>\n",
       "      <th>commodity</th>\n",
       "      <th>level</th>\n",
       "      <th>year</th>\n",
       "      <th>time</th>\n",
       "      <th>value</th>\n",
       "      <th>unit</th>\n",
       "    </tr>\n",
       "  </thead>\n",
       "  <tbody>\n",
       "    <tr>\n",
       "      <th>0</th>\n",
       "      <td>Indonesia</td>\n",
       "      <td>electricity</td>\n",
       "      <td>useful</td>\n",
       "      <td>2020</td>\n",
       "      <td>year</td>\n",
       "      <td>75.0</td>\n",
       "      <td>GWa</td>\n",
       "    </tr>\n",
       "    <tr>\n",
       "      <th>1</th>\n",
       "      <td>Indonesia</td>\n",
       "      <td>electricity</td>\n",
       "      <td>useful</td>\n",
       "      <td>2025</td>\n",
       "      <td>year</td>\n",
       "      <td>120.0</td>\n",
       "      <td>GWa</td>\n",
       "    </tr>\n",
       "    <tr>\n",
       "      <th>2</th>\n",
       "      <td>Indonesia</td>\n",
       "      <td>electricity</td>\n",
       "      <td>useful</td>\n",
       "      <td>2030</td>\n",
       "      <td>year</td>\n",
       "      <td>150.0</td>\n",
       "      <td>GWa</td>\n",
       "    </tr>\n",
       "  </tbody>\n",
       "</table>\n",
       "</div>"
      ],
      "text/plain": [
       "        node    commodity   level  year  time  value unit\n",
       "0  Indonesia  electricity  useful  2020  year   75.0  GWa\n",
       "1  Indonesia  electricity  useful  2025  year  120.0  GWa\n",
       "2  Indonesia  electricity  useful  2030  year  150.0  GWa"
      ]
     },
     "execution_count": 5,
     "metadata": {},
     "output_type": "execute_result"
    }
   ],
   "source": [
    "# To test the slack technologies we now add a demand that we do not have yet added a technology\n",
    "demand.loc[:,'value'] = demand.loc[:,'value'].copy() *1.5\n",
    "demand.head()"
   ]
  },
  {
   "cell_type": "code",
   "execution_count": 6,
   "metadata": {},
   "outputs": [],
   "source": [
    "model.set_parameter(par=demand, name='demand')"
   ]
  },
  {
   "cell_type": "code",
   "execution_count": 7,
   "metadata": {},
   "outputs": [
    {
     "name": "stdout",
     "output_type": "stream",
     "text": [
      "2018-10-19 13:04:43,973  INFO d2ix.core - Prepare model input data\n",
      "2018-10-19 13:04:44,031  INFO d2ix.core - Unit check\n",
      "2018-10-19 13:04:44,043  INFO d2ix.core - Add sets to scenario\n",
      "2018-10-19 13:04:44,055  INFO d2ix.core - Add parameter to scenario\n"
     ]
    }
   ],
   "source": [
    "scenario = model.model2db()\n",
    "scenario.solve(model='MESSAGE')"
   ]
  },
  {
   "cell_type": "markdown",
   "metadata": {},
   "source": [
    "# Postprocessing Workflow"
   ]
  },
  {
   "cell_type": "code",
   "execution_count": 8,
   "metadata": {},
   "outputs": [
    {
     "name": "stdout",
     "output_type": "stream",
     "text": [
      "2018-10-19 13:04:46,760  INFO d2ix.postprocess.timeseries - Create timeseries\n"
     ]
    }
   ],
   "source": [
    "# Create timeseries from scenario results in preperation to post processing\n",
    "model.create_timeseries(scenario)\n",
    "model.close_db()"
   ]
  },
  {
   "cell_type": "code",
   "execution_count": 9,
   "metadata": {},
   "outputs": [
    {
     "name": "stdout",
     "output_type": "stream",
     "text": [
      "2018-10-19 13:04:47,582  INFO d2ix.core - Load data base configurations\n",
      "2018-10-19 13:04:47,583  INFO root - launching ixmp.Platform with local HSQLDB database at 'C:\\Users\\ga46gup\\.local\\ixmp\\localdb\\default'\n"
     ]
    }
   ],
   "source": [
    "# Crate an instance of the d2ix post process class:\n",
    "# Post process for a specific scenario: model, scen, version\n",
    "pp = PostProcess(run_config='config/run_config_notebook.yml', \n",
    "                 model='MESSAGE_Indonesia', scen='Indonesia baseline', version=None)"
   ]
  },
  {
   "cell_type": "code",
   "execution_count": 10,
   "metadata": {},
   "outputs": [
    {
     "name": "stdout",
     "output_type": "stream",
     "text": [
      "2018-10-19 13:04:49,444  INFO d2ix.core - Load results for model: 'MESSAGE_Indonesia', scenario: 'Indonesia baseline', version: 'None' \n"
     ]
    }
   ],
   "source": [
    "# Load results for\n",
    "results = pp.get_results()"
   ]
  },
  {
   "cell_type": "code",
   "execution_count": 11,
   "metadata": {},
   "outputs": [],
   "source": [
    "df = pp.create_plotdata(results)"
   ]
  },
  {
   "cell_type": "code",
   "execution_count": 12,
   "metadata": {},
   "outputs": [],
   "source": [
    "tecs = ['coal_ppl', 'bio_ppl']"
   ]
  },
  {
   "cell_type": "code",
   "execution_count": 13,
   "metadata": {},
   "outputs": [
    {
     "data": {
      "image/png": "[encoded data removed]",
      "text/plain": [
       "<Figure size 432x216 with 1 Axes>"
      ]
     },
     "metadata": {},
     "output_type": "display_data"
    }
   ],
   "source": [
    "pp.barplot(df=df, filters={'technology': tecs, 'variable': ['ACT']},\n",
    "           title='ACT - heat')"
   ]
  },
  {
   "cell_type": "code",
   "execution_count": 14,
   "metadata": {},
   "outputs": [
    {
     "data": {
      "image/png": "[encoded data removed]",
      "text/plain": [
       "<Figure size 432x216 with 1 Axes>"
      ]
     },
     "metadata": {},
     "output_type": "display_data"
    }
   ],
   "source": [
    "pp.barplot(df=df, filters={'technology': tecs, 'variable': ['CAP']},\n",
    "           title='CAP - heat')"
   ]
  },
  {
   "cell_type": "code",
   "execution_count": 15,
   "metadata": {},
   "outputs": [
    {
     "data": {
      "image/png": "[encoded data removed]",
      "text/plain": [
       "<Figure size 432x216 with 1 Axes>"
      ]
     },
     "metadata": {},
     "output_type": "display_data"
    }
   ],
   "source": [
    "    pp.barplot(df=df, filters={'technology': tecs, 'variable': ['CAP_NEW']},\n",
    "               title='CAP_NEW - heat')"
   ]
  },
  {
   "cell_type": "markdown",
   "metadata": {},
   "source": [
    "# Workflow to get a scenario from data base and write all pars/sets to an excel sheet"
   ]
  },
  {
   "cell_type": "code",
   "execution_count": 16,
   "metadata": {},
   "outputs": [
    {
     "name": "stdout",
     "output_type": "stream",
     "text": [
      "2018-10-19 13:04:50,543  INFO d2ix.core - Load data base configurations\n",
      "2018-10-19 13:04:50,544  INFO root - launching ixmp.Platform with local HSQLDB database at 'C:\\Users\\ga46gup\\.local\\ixmp\\localdb\\default'\n"
     ]
    }
   ],
   "source": [
    "# create an isntance of the ModifyModel class \n",
    "mod_model = ModifyModel(run_config='config/run_config.yml', model='MESSAGE_Indonesia', scen='Indonesia baseline',\n",
    "                        xls_dir='input/scen2xls', file_name='data.xlsx', verbose=False)"
   ]
  },
  {
   "cell_type": "code",
   "execution_count": 17,
   "metadata": {},
   "outputs": [
    {
     "name": "stdout",
     "output_type": "stream",
     "text": [
      "2018-10-19 13:04:50,580  INFO d2ix.core - Load results for model: 'MESSAGE_Indonesia', scenario: 'Indonesia baseline', version: 'None' \n",
      "2018-10-19 13:04:50,911  INFO d2ix.core - Write model to excel\n"
     ]
    }
   ],
   "source": [
    "# write the scenario to an excel workbook\n",
    "mod_model.scen2xls(version=None)"
   ]
  },
  {
   "cell_type": "markdown",
   "metadata": {},
   "source": [
    "# Workflow to get a scenario from an excel sheet to the data base\n",
    "The data in the excel sheet can now be mnodified and edited as required before beeing added to the database and solved in GAMS.  This can lead to **infeasibility** if non consistent changes are applied to the data no sanity checks are done to the data before beeing added to the data base."
   ]
  },
  {
   "cell_type": "code",
   "execution_count": 18,
   "metadata": {},
   "outputs": [
    {
     "name": "stdout",
     "output_type": "stream",
     "text": [
      "2018-10-19 13:04:51,749  INFO d2ix.core - Load data base configurations\n",
      "2018-10-19 13:04:51,750  INFO root - launching ixmp.Platform with local HSQLDB database at 'C:\\Users\\ga46gup\\.local\\ixmp\\localdb\\default'\n"
     ]
    }
   ],
   "source": [
    "# create an isntance of the ModifyModel class \n",
    "mod_model = ModifyModel(run_config='config/run_config.yml', model='MESSAGE_Indonesia', scen='Indonesia baseline',\n",
    "                        xls_dir='input/scen2xls',\n",
    "                        file_name='data.xlsx', verbose=False)"
   ]
  },
  {
   "cell_type": "code",
   "execution_count": 19,
   "metadata": {},
   "outputs": [
    {
     "name": "stdout",
     "output_type": "stream",
     "text": [
      "2018-10-19 13:04:51,836  INFO d2ix.core - Create model from excel\n",
      "2018-10-19 13:04:52,119  INFO d2ix.core - Prepare model input data\n",
      "2018-10-19 13:04:52,203  INFO d2ix.core - Add sets to scenario\n",
      "2018-10-19 13:04:52,212  INFO d2ix.core - Add parameter to scenario\n",
      "2018-10-19 13:04:53,142  INFO d2ix.core - Write yaml output files\n"
     ]
    }
   ],
   "source": [
    "# write scenario from xlsx to data base and run the sceanrio in GAMS\n",
    "mod_model.xls2model(annotation=None)\n",
    "scenario = mod_model.model2db()\n",
    "scenario.solve(model='MESSAGE')"
   ]
  },
  {
   "cell_type": "code",
   "execution_count": null,
   "metadata": {},
   "outputs": [],
   "source": []
  }
 ],
 "metadata": {
  "kernelspec": {
   "display_name": "Python 3",
   "language": "python",
   "name": "python3"
  },
  "language_info": {
   "codemirror_mode": {
    "name": "ipython",
    "version": 3
   },
   "file_extension": ".py",
   "mimetype": "text/x-python",
   "name": "python",
   "nbconvert_exporter": "python",
   "pygments_lexer": "ipython3",
   "version": "3.6.6"
  }
 },
 "nbformat": 4,
 "nbformat_minor": 2
}
